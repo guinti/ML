{
 "cells": [
  {
   "attachments": {},
   "cell_type": "markdown",
   "id": "c489b782-218c-4f27-9609-b2405192b4ae",
   "metadata": {},
   "source": [
    "# \n",
    "\n",
    "Домашнее задание\n",
    "\n",
    "Работаем с датасетом про дорожные знаки.\n",
    "\n",
    "https://www.kaggle.com/datasets/valentynsichkar/traffic-signs-preprocessed/data\n",
    "\n",
    "В первых двух задачах берем только файл train.pickle и можно подгрузить labels_names.csv\n",
    "\n",
    "Данные можно прочитать через `pd.read_pickle`"
   ]
  },
  {
   "cell_type": "code",
   "execution_count": 1,
   "id": "d559d054-9e98-46be-8175-5e02ad9eca21",
   "metadata": {},
   "outputs": [],
   "source": [
    "import numpy as np\n",
    "import random\n",
    "import pandas as pd\n",
    "import matplotlib.pyplot as plt\n",
    "\n",
    "from sklearn.datasets import load_digits\n",
    "from sklearn.metrics import balanced_accuracy_score, accuracy_score, confusion_matrix, classification_report\n",
    "from sklearn.model_selection import train_test_split\n",
    "from matplotlib.colors import ListedColormap\n",
    "import seaborn as sns\n",
    "from sklearn.linear_model import LogisticRegression\n",
    "from sklearn.neighbors import KNeighborsClassifier\n",
    "from sklearn.naive_bayes import GaussianNB\n",
    "from sklearn.svm import SVC"
   ]
  },
  {
   "cell_type": "markdown",
   "id": "9d30c819-4bb6-4c3f-86ac-6a061e360ecb",
   "metadata": {},
   "source": [
    "## Easy\n",
    "\n",
    "Скачать датасет, обучить логистическую регрессию, измерить качество.\n",
    "\n",
    "Текстом кратко обосновать какую метрику выбираем и почему такую.\n",
    "\n",
    "Какой вид дорожных знаков модель путает чаще всего?"
   ]
  },
  {
   "cell_type": "code",
   "execution_count": 2,
   "id": "6bf76b9c-969a-4c42-b5c3-c406b9a63348",
   "metadata": {},
   "outputs": [],
   "source": [
    "data = pd.read_pickle('../data/train.pickle')\n",
    "x = data['features']\n",
    "y = data['labels']"
   ]
  },
  {
   "cell_type": "code",
   "execution_count": 3,
   "id": "e43778f6-9dca-4c5b-a552-d0ca5b5d7866",
   "metadata": {},
   "outputs": [],
   "source": [
    "x = x.reshape(x.shape[0], -1)"
   ]
  },
  {
   "cell_type": "code",
   "execution_count": 4,
   "id": "04b39aac-56a0-4d8a-9fb0-6eb1c631122c",
   "metadata": {},
   "outputs": [
    {
     "data": {
      "text/plain": [
       "(34799, 3072)"
      ]
     },
     "execution_count": 4,
     "metadata": {},
     "output_type": "execute_result"
    }
   ],
   "source": [
    "x.shape"
   ]
  },
  {
   "cell_type": "code",
   "execution_count": 5,
   "id": "4cd81f1c-ec8b-4517-b711-01e26561dfb1",
   "metadata": {},
   "outputs": [
    {
     "data": {
      "text/plain": [
       "(34799,)"
      ]
     },
     "execution_count": 5,
     "metadata": {},
     "output_type": "execute_result"
    }
   ],
   "source": [
    "y.shape"
   ]
  },
  {
   "cell_type": "code",
   "execution_count": 6,
   "id": "04606398-015c-4f48-87e2-29ce87b397c0",
   "metadata": {
    "scrolled": true
   },
   "outputs": [
    {
     "name": "stderr",
     "output_type": "stream",
     "text": [
      "/home/iulia/miniconda3/envs/my-environment/lib/python3.11/site-packages/sklearn/linear_model/_logistic.py:460: ConvergenceWarning: lbfgs failed to converge (status=1):\n",
      "STOP: TOTAL NO. of ITERATIONS REACHED LIMIT.\n",
      "\n",
      "Increase the number of iterations (max_iter) or scale the data as shown in:\n",
      "    https://scikit-learn.org/stable/modules/preprocessing.html\n",
      "Please also refer to the documentation for alternative solver options:\n",
      "    https://scikit-learn.org/stable/modules/linear_model.html#logistic-regression\n",
      "  n_iter_i = _check_optimize_result(\n"
     ]
    }
   ],
   "source": [
    "x_train, x_test, y_train, y_test = train_test_split(x, y)\n",
    "model = LogisticRegression(max_iter=100)\n",
    "model.fit(x_train, y_train)\n",
    "pred = model.predict(x_test)"
   ]
  },
  {
   "cell_type": "code",
   "execution_count": 7,
   "id": "eaccb536-fabd-40d9-bcde-c5614bc6c1da",
   "metadata": {
    "scrolled": true
   },
   "outputs": [],
   "source": [
    "accuracy = balanced_accuracy_score(y_test, pred)\n",
    "rep = classification_report(y_test, pred)"
   ]
  },
  {
   "cell_type": "code",
   "execution_count": 8,
   "id": "9e3fd9de-74f2-4978-9a85-7f87e56e1068",
   "metadata": {},
   "outputs": [
    {
     "name": "stdout",
     "output_type": "stream",
     "text": [
      "0.9100270923059286\n"
     ]
    }
   ],
   "source": [
    "print(accuracy)"
   ]
  },
  {
   "cell_type": "code",
   "execution_count": 9,
   "id": "3842cdb9-0ea7-46d0-ab2d-f3a6f4e1c364",
   "metadata": {},
   "outputs": [
    {
     "name": "stdout",
     "output_type": "stream",
     "text": [
      "              precision    recall  f1-score   support\n",
      "\n",
      "           0       0.75      0.90      0.82        40\n",
      "           1       0.90      0.89      0.90       501\n",
      "           2       0.91      0.91      0.91       531\n",
      "           3       0.89      0.85      0.87       288\n",
      "           4       0.89      0.93      0.91       457\n",
      "           5       0.84      0.87      0.85       413\n",
      "           6       0.92      0.93      0.93        90\n",
      "           7       0.87      0.92      0.89       332\n",
      "           8       0.91      0.88      0.90       305\n",
      "           9       0.96      0.95      0.95       310\n",
      "          10       0.98      0.97      0.97       463\n",
      "          11       0.93      0.91      0.92       292\n",
      "          12       0.99      0.98      0.98       486\n",
      "          13       0.97      0.96      0.96       492\n",
      "          14       0.98      0.98      0.98       168\n",
      "          15       0.90      0.91      0.91       123\n",
      "          16       0.97      0.96      0.96        99\n",
      "          17       0.98      0.98      0.98       280\n",
      "          18       0.94      0.97      0.96       279\n",
      "          19       0.79      0.65      0.71        46\n",
      "          20       0.95      0.74      0.83        78\n",
      "          21       0.94      0.90      0.92        69\n",
      "          22       0.98      0.93      0.95        90\n",
      "          23       0.88      0.88      0.88       112\n",
      "          24       0.76      0.90      0.82        59\n",
      "          25       0.94      0.95      0.95       325\n",
      "          26       0.94      0.90      0.92       132\n",
      "          27       0.92      0.80      0.86        41\n",
      "          28       0.91      0.94      0.93       109\n",
      "          29       0.74      0.69      0.71        51\n",
      "          30       0.87      0.86      0.86        91\n",
      "          31       0.90      0.92      0.91       192\n",
      "          32       0.82      0.81      0.82        52\n",
      "          33       0.99      0.99      0.99       152\n",
      "          34       0.92      0.98      0.95        90\n",
      "          35       0.98      0.97      0.97       262\n",
      "          36       0.95      0.99      0.97        77\n",
      "          37       0.97      0.97      0.97        39\n",
      "          38       0.96      0.97      0.97       449\n",
      "          39       1.00      0.98      0.99        64\n",
      "          40       0.99      0.96      0.97        73\n",
      "          41       0.80      0.92      0.86        52\n",
      "          42       0.95      0.87      0.91        46\n",
      "\n",
      "    accuracy                           0.93      8700\n",
      "   macro avg       0.91      0.91      0.91      8700\n",
      "weighted avg       0.93      0.93      0.93      8700\n",
      "\n"
     ]
    }
   ],
   "source": [
    "print(rep)"
   ]
  },
  {
   "cell_type": "code",
   "execution_count": 10,
   "id": "1ab2338e-e893-4363-a48f-2c02d80bcecd",
   "metadata": {},
   "outputs": [],
   "source": [
    "matrix = confusion_matrix(y_test, pred)"
   ]
  },
  {
   "cell_type": "code",
   "execution_count": 11,
   "id": "2abcf9e2-154d-4b03-9d55-5772d117aaba",
   "metadata": {},
   "outputs": [
    {
     "data": {
      "image/png": "[encoded data removed]",
      "text/plain": [
       "<Figure size 1000x800 with 2 Axes>"
      ]
     },
     "metadata": {},
     "output_type": "display_data"
    }
   ],
   "source": [
    "plt.figure(figsize=(10, 8))\n",
    "sns.heatmap(matrix, annot=True, fmt='d', cmap='Blues')\n",
    "plt.title('Матрица ошибок')\n",
    "plt.show()"
   ]
  },
  {
   "cell_type": "markdown",
   "id": "9eaa4908-492f-4687-bf8a-1a3899361991",
   "metadata": {},
   "source": [
    "Большинство ошибок в первых 13 пунктах, половина из которых отвечает за знаки скорости а остальные - похожие на них."
   ]
  },
  {
   "cell_type": "markdown",
   "id": "a1e7df06-6c01-4dbb-89b6-87e683fc7e6d",
   "metadata": {},
   "source": [
    "## Medium\n",
    "\n",
    "Обучить и сравнить между собой:\n",
    "\n",
    "- логистическая регрессия\n",
    "- kNN\n",
    "- НБК\n",
    "- SVM (попробовать 3 разных ядра)\n",
    "\n",
    "Какая модель отработала лучше, а какая хуже всех?\n",
    "\n",
    "Проинтерпретируйте почему худшая модель именно эта."
   ]
  },
  {
   "cell_type": "code",
   "execution_count": 12,
   "id": "0a163607-c46f-41c4-8c3c-69c2d2babe97",
   "metadata": {},
   "outputs": [],
   "source": [
    "#kNN\n",
    "knn_model = KNeighborsClassifier()\n",
    "knn_model.fit(x_train, y_train)\n",
    "knn_pred = knn_model.predict(x_test)\n",
    "accuracy2 = accuracy_score(y_test, knn_pred)"
   ]
  },
  {
   "cell_type": "code",
   "execution_count": 13,
   "id": "8ccf1ad4-d8ac-49e6-abe6-4a8bdb249e7d",
   "metadata": {},
   "outputs": [],
   "source": [
    "#НБК\n",
    "nb_model = GaussianNB()\n",
    "nb_model.fit(x_train, y_train)\n",
    "nb_pred = nb_model.predict(x_test)\n",
    "accuracy3 = accuracy_score(y_test, nb_pred)"
   ]
  },
  {
   "cell_type": "code",
   "execution_count": 14,
   "id": "54981182-7d37-4773-85ee-20b4e70883f1",
   "metadata": {},
   "outputs": [
    {
     "name": "stderr",
     "output_type": "stream",
     "text": [
      "/home/iulia/miniconda3/envs/my-environment/lib/python3.11/site-packages/sklearn/svm/_base.py:297: ConvergenceWarning: Solver terminated early (max_iter=20).  Consider pre-processing your data with StandardScaler or MinMaxScaler.\n",
      "  warnings.warn(\n"
     ]
    }
   ],
   "source": [
    "# SVM\n",
    "svm_linear_model = SVC(kernel='linear', max_iter=20)\n",
    "svm_linear_model.fit(x_train, y_train)\n",
    "svm_linear_pred = svm_linear_model.predict(x_test)\n",
    "accuracy4_1 = accuracy_score(y_test, svm_linear_pred)"
   ]
  },
  {
   "cell_type": "code",
   "execution_count": 15,
   "id": "5cf64ebc-6193-4cee-bee9-67eb6c4f3a60",
   "metadata": {},
   "outputs": [
    {
     "name": "stderr",
     "output_type": "stream",
     "text": [
      "/home/iulia/miniconda3/envs/my-environment/lib/python3.11/site-packages/sklearn/svm/_base.py:297: ConvergenceWarning: Solver terminated early (max_iter=20).  Consider pre-processing your data with StandardScaler or MinMaxScaler.\n",
      "  warnings.warn(\n"
     ]
    }
   ],
   "source": [
    "svm_poly_model = SVC(kernel='poly', max_iter=20)\n",
    "svm_poly_model.fit(x_train, y_train)\n",
    "svm_poly_pred = svm_poly_model.predict(x_test)\n",
    "accuracy4_2 = accuracy_score(y_test, svm_poly_pred)"
   ]
  },
  {
   "cell_type": "code",
   "execution_count": 16,
   "id": "66d8dc09-fd81-4a1c-bc20-690795bc204e",
   "metadata": {},
   "outputs": [
    {
     "name": "stderr",
     "output_type": "stream",
     "text": [
      "/home/iulia/miniconda3/envs/my-environment/lib/python3.11/site-packages/sklearn/svm/_base.py:297: ConvergenceWarning: Solver terminated early (max_iter=20).  Consider pre-processing your data with StandardScaler or MinMaxScaler.\n",
      "  warnings.warn(\n"
     ]
    }
   ],
   "source": [
    "svm_rbf_model = SVC(kernel='rbf', max_iter=20)\n",
    "svm_rbf_model.fit(x_train, y_train)\n",
    "svm_rbf_pred = svm_rbf_model.predict(x_test)\n",
    "accuracy4_3 = accuracy_score(y_test, svm_rbf_pred)"
   ]
  },
  {
   "cell_type": "code",
   "execution_count": 17,
   "id": "89a6b209-2349-4835-b348-9cbb50ab6025",
   "metadata": {},
   "outputs": [
    {
     "name": "stdout",
     "output_type": "stream",
     "text": [
      "Accuracy по моделям:\n",
      "Logistic Regression: 0.9100270923059286\n",
      "kNN: 0.8705747126436781\n",
      "Naive Bayes: 0.16666666666666666\n",
      "SVM (Linear Kernel): 0.47045977011494255\n",
      "SVM (Polynomial Kernel): 0.05862068965517241\n",
      "SVM (RBF Kernel): 0.13528735632183908\n"
     ]
    }
   ],
   "source": [
    "# Оценка результатов\n",
    "accuracies = {\n",
    "    \"Logistic Regression\": accuracy,\n",
    "    \"kNN\": accuracy2,\n",
    "    \"Naive Bayes\": accuracy3,\n",
    "    \"SVM (Linear Kernel)\": accuracy4_1,\n",
    "    \"SVM (Polynomial Kernel)\": accuracy4_2,\n",
    "    \"SVM (RBF Kernel)\": accuracy4_3\n",
    "}\n",
    "\n",
    "print(\"Accuracy по моделям:\")\n",
    "for model, accuracy in accuracies.items():\n",
    "    print(f\"{model}: {accuracy}\")"
   ]
  },
  {
   "cell_type": "markdown",
   "id": "a56502ae-88d6-455a-bd9f-095e9ab921de",
   "metadata": {},
   "source": [
    "Хуже всего отработали SVM Polynomial и RBF (так как все знаки достаточно похожи между собой)"
   ]
  },
  {
   "cell_type": "markdown",
   "id": "0b0d0b01-1f4a-4e3c-b745-51ec3a58cae3",
   "metadata": {},
   "source": [
    "По той же причине плохо работает Naive Bayes(признаки не независимы)."
   ]
  },
  {
   "cell_type": "code",
   "execution_count": null,
   "id": "b837d2cc-b59b-4b52-900d-cca2b72ebbf7",
   "metadata": {},
   "outputs": [],
   "source": []
  }
 ],
 "metadata": {
  "kernelspec": {
   "display_name": "Python 3 (ipykernel)",
   "language": "python",
   "name": "python3"
  },
  "language_info": {
   "codemirror_mode": {
    "name": "ipython",
    "version": 3
   },
   "file_extension": ".py",
   "mimetype": "text/x-python",
   "name": "python",
   "nbconvert_exporter": "python",
   "pygments_lexer": "ipython3",
   "version": "3.11.8"
  }
 },
 "nbformat": 4,
 "nbformat_minor": 5
}
