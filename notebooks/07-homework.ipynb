{
 "cells": [
  {
   "cell_type": "code",
   "execution_count": 1,
   "id": "8ac9f81e-85be-4a09-ae4f-badcc46631fd",
   "metadata": {},
   "outputs": [
    {
     "name": "stdout",
     "output_type": "stream",
     "text": [
      "[nltk_data] Downloading package punkt to /home/iulia/nltk_data...\n",
      "[nltk_data]   Package punkt is already up-to-date!\n",
      "[nltk_data] Downloading package stopwords to /home/iulia/nltk_data...\n",
      "[nltk_data]   Package stopwords is already up-to-date!\n",
      "0.937540663630449\n",
      "Model trained and saved successfully.\n"
     ]
    }
   ],
   "source": [
    "! python main.py train --data train.csv --split 0.2 --model model.pkl"
   ]
  },
  {
   "cell_type": "code",
   "execution_count": 2,
   "id": "955506db-e096-4b75-a979-5a5bbed507be",
   "metadata": {},
   "outputs": [
    {
     "name": "stdout",
     "output_type": "stream",
     "text": [
      "[nltk_data] Downloading package punkt to /home/iulia/nltk_data...\n",
      "[nltk_data]   Package punkt is already up-to-date!\n",
      "[nltk_data] Downloading package stopwords to /home/iulia/nltk_data...\n",
      "[nltk_data]   Package stopwords is already up-to-date!\n",
      "0.9559856820893543\n",
      "Model trained and saved successfully.\n"
     ]
    }
   ],
   "source": [
    "! python main.py train --data train.csv --test test.csv --model model.pkl"
   ]
  },
  {
   "cell_type": "code",
   "execution_count": 3,
   "id": "09395f53-5bf1-4b79-81ef-ea5946039c17",
   "metadata": {},
   "outputs": [
    {
     "name": "stdout",
     "output_type": "stream",
     "text": [
      "[nltk_data] Downloading package punkt to /home/iulia/nltk_data...\n",
      "[nltk_data]   Package punkt is already up-to-date!\n",
      "[nltk_data] Downloading package stopwords to /home/iulia/nltk_data...\n",
      "[nltk_data]   Package stopwords is already up-to-date!\n",
      "[0]\n"
     ]
    }
   ],
   "source": [
    "! python main.py predict --model model.pkl --data \"bad service\""
   ]
  },
  {
   "cell_type": "code",
   "execution_count": 4,
   "id": "f3e9f02b-e9d9-40a0-a4a7-6d6ccfced67c",
   "metadata": {},
   "outputs": [
    {
     "name": "stdout",
     "output_type": "stream",
     "text": [
      "[nltk_data] Downloading package punkt to /home/iulia/nltk_data...\n",
      "[nltk_data]   Package punkt is already up-to-date!\n",
      "[nltk_data] Downloading package stopwords to /home/iulia/nltk_data...\n",
      "[nltk_data]   Package stopwords is already up-to-date!\n",
      "[1]\n"
     ]
    }
   ],
   "source": [
    "! python main.py predict --model model.pkl --data \"good service\""
   ]
  },
  {
   "cell_type": "code",
   "execution_count": 5,
   "id": "ce88e6d6-9784-4c8f-8530-2733293d98f9",
   "metadata": {},
   "outputs": [
    {
     "name": "stdout",
     "output_type": "stream",
     "text": [
      "[nltk_data] Downloading package punkt to /home/iulia/nltk_data...\n",
      "[nltk_data]   Package punkt is already up-to-date!\n",
      "[nltk_data] Downloading package stopwords to /home/iulia/nltk_data...\n",
      "[nltk_data]   Package stopwords is already up-to-date!\n",
      "1\n",
      "1\n",
      "1\n",
      "1\n",
      "1\n",
      "1\n",
      "1\n",
      "1\n",
      "1\n"
     ]
    }
   ],
   "source": [
    "! python main.py predict --model model.pkl --data test.csv"
   ]
  },
  {
   "cell_type": "code",
   "execution_count": 6,
   "id": "9a92c2af-0e34-4529-a625-44097570f254",
   "metadata": {},
   "outputs": [
    {
     "name": "stdout",
     "output_type": "stream",
     "text": [
      "\u001b[1m============================= test session starts ==============================\u001b[0m\n",
      "platform linux -- Python 3.11.8, pytest-8.2.1, pluggy-1.5.0\n",
      "rootdir: /home/iulia/ML/notebooks\n",
      "plugins: anyio-4.2.0\n",
      "collected 3 items                                                              \u001b[0m\u001b[1m\n",
      "\n",
      "test_main.py \u001b[32m.\u001b[0m\u001b[32m.\u001b[0m\u001b[32m.\u001b[0m\u001b[32m                                                         [100%]\u001b[0m\n",
      "\n",
      "\u001b[32m============================== \u001b[32m\u001b[1m3 passed\u001b[0m\u001b[32m in 1.73s\u001b[0m\u001b[32m ===============================\u001b[0m\n"
     ]
    }
   ],
   "source": [
    "! pytest"
   ]
  }
 ],
 "metadata": {
  "kernelspec": {
   "display_name": "Python 3 (ipykernel)",
   "language": "python",
   "name": "python3"
  },
  "language_info": {
   "codemirror_mode": {
    "name": "ipython",
    "version": 3
   },
   "file_extension": ".py",
   "mimetype": "text/x-python",
   "name": "python",
   "nbconvert_exporter": "python",
   "pygments_lexer": "ipython3",
   "version": "3.11.8"
  }
 },
 "nbformat": 4,
 "nbformat_minor": 5
}
