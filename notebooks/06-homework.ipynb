{
 "cells": [
  {
   "cell_type": "code",
   "execution_count": 1,
   "id": "065361dc-4fc7-4eba-a72a-5a662b336a5d",
   "metadata": {},
   "outputs": [],
   "source": [
    "import numpy as np\n",
    "import pandas as pd\n",
    "from sklearn.metrics import f1_score\n",
    "from sklearn.model_selection import train_test_split\n",
    "from sklearn.feature_extraction.text import CountVectorizer, TfidfVectorizer\n",
    "from sklearn.linear_model import LogisticRegression\n",
    "from sklearn.ensemble import RandomForestClassifier"
   ]
  },
  {
   "cell_type": "markdown",
   "id": "c9545163-7592-4fb2-9d5a-89803630eed0",
   "metadata": {},
   "source": [
    "**Easy**\n",
    "\n",
    "**Выбрать метрику.**\n",
    "\n",
    "**Удалить пунктуацию из датасета.**\n",
    "\n",
    "**Преобразовать датасет в BOW или TF-IDF, поделить на треин-тест и спрогнозировать вашей любимой моделью**"
   ]
  },
  {
   "cell_type": "markdown",
   "id": "177afa8b-bd34-4d9b-ade9-57922cc24469",
   "metadata": {},
   "source": [
    "метрика - f1_score"
   ]
  },
  {
   "cell_type": "code",
   "execution_count": 2,
   "id": "c642fa47-de0f-47a9-a930-8ea31f611bcd",
   "metadata": {},
   "outputs": [],
   "source": [
    "import re\n",
    "def preprocess_text(text):\n",
    "    return re.sub(r\"[^\\w\\s]+\", '', text).lower().split()"
   ]
  },
  {
   "cell_type": "code",
   "execution_count": 3,
   "id": "7f54054b-81b1-48a6-a926-9f182ec2eb36",
   "metadata": {},
   "outputs": [],
   "source": [
    "from nltk.stem.porter import *\n",
    "\n",
    "stemmer = PorterStemmer()\n",
    "\n",
    "def preprocess_sentence_eng(text):\n",
    "    return ' '.join(map(stemmer.stem, preprocess_text(text)))\n"
   ]
  },
  {
   "cell_type": "code",
   "execution_count": 4,
   "id": "ced4a00b-ea37-4d19-b8fe-8f5093a813f7",
   "metadata": {},
   "outputs": [],
   "source": [
    "df = pd.read_csv('../data/data_for_6_hw/singapore_airlines_reviews.csv')"
   ]
  },
  {
   "cell_type": "markdown",
   "id": "2285adba-56c1-479f-a5a3-b04167b579eb",
   "metadata": {},
   "source": [
    "Преобразование текста:"
   ]
  },
  {
   "cell_type": "code",
   "execution_count": 5,
   "id": "f50c0d7c-ffdb-44e5-a188-622238a9d9d6",
   "metadata": {},
   "outputs": [],
   "source": [
    "df['text_stemmed'] = df['text'].apply(preprocess_sentence_eng)"
   ]
  },
  {
   "cell_type": "code",
   "execution_count": 6,
   "id": "79e9fdd8-38cc-4a67-a4c7-5e563dd4be2b",
   "metadata": {},
   "outputs": [
    {
     "data": {
      "text/html": [
       "<div>\n",
       "<style scoped>\n",
       "    .dataframe tbody tr th:only-of-type {\n",
       "        vertical-align: middle;\n",
       "    }\n",
       "\n",
       "    .dataframe tbody tr th {\n",
       "        vertical-align: top;\n",
       "    }\n",
       "\n",
       "    .dataframe thead th {\n",
       "        text-align: right;\n",
       "    }\n",
       "</style>\n",
       "<table border=\"1\" class=\"dataframe\">\n",
       "  <thead>\n",
       "    <tr style=\"text-align: right;\">\n",
       "      <th></th>\n",
       "      <th>published_date</th>\n",
       "      <th>published_platform</th>\n",
       "      <th>rating</th>\n",
       "      <th>type</th>\n",
       "      <th>text</th>\n",
       "      <th>title</th>\n",
       "      <th>helpful_votes</th>\n",
       "      <th>text_stemmed</th>\n",
       "      <th>rating_num</th>\n",
       "    </tr>\n",
       "  </thead>\n",
       "  <tbody>\n",
       "    <tr>\n",
       "      <th>0</th>\n",
       "      <td>2024-03-12T14:41:14-04:00</td>\n",
       "      <td>Desktop</td>\n",
       "      <td>3</td>\n",
       "      <td>review</td>\n",
       "      <td>We used this airline to go from Singapore to L...</td>\n",
       "      <td>Ok</td>\n",
       "      <td>0</td>\n",
       "      <td>we use thi airlin to go from singapor to londo...</td>\n",
       "      <td>0</td>\n",
       "    </tr>\n",
       "    <tr>\n",
       "      <th>1</th>\n",
       "      <td>2024-03-11T19:39:13-04:00</td>\n",
       "      <td>Desktop</td>\n",
       "      <td>5</td>\n",
       "      <td>review</td>\n",
       "      <td>The service on Singapore Airlines Suites Class...</td>\n",
       "      <td>The service in Suites Class makes one feel lik...</td>\n",
       "      <td>0</td>\n",
       "      <td>the servic on singapor airlin suit class wa no...</td>\n",
       "      <td>1</td>\n",
       "    </tr>\n",
       "    <tr>\n",
       "      <th>2</th>\n",
       "      <td>2024-03-11T12:20:23-04:00</td>\n",
       "      <td>Desktop</td>\n",
       "      <td>1</td>\n",
       "      <td>review</td>\n",
       "      <td>Booked, paid and received email confirmation f...</td>\n",
       "      <td>Don’t give them your money</td>\n",
       "      <td>0</td>\n",
       "      <td>book paid and receiv email confirm for extra l...</td>\n",
       "      <td>0</td>\n",
       "    </tr>\n",
       "    <tr>\n",
       "      <th>3</th>\n",
       "      <td>2024-03-11T07:12:27-04:00</td>\n",
       "      <td>Desktop</td>\n",
       "      <td>5</td>\n",
       "      <td>review</td>\n",
       "      <td>Best airline in the world, seats, food, servic...</td>\n",
       "      <td>Best Airline in the World</td>\n",
       "      <td>0</td>\n",
       "      <td>best airlin in the world seat food servic are ...</td>\n",
       "      <td>1</td>\n",
       "    </tr>\n",
       "    <tr>\n",
       "      <th>4</th>\n",
       "      <td>2024-03-10T05:34:18-04:00</td>\n",
       "      <td>Desktop</td>\n",
       "      <td>2</td>\n",
       "      <td>review</td>\n",
       "      <td>Premium Economy Seating on Singapore Airlines ...</td>\n",
       "      <td>Premium Economy Seating on Singapore Airlines ...</td>\n",
       "      <td>0</td>\n",
       "      <td>premium economi seat on singapor airlin ha nar...</td>\n",
       "      <td>0</td>\n",
       "    </tr>\n",
       "    <tr>\n",
       "      <th>...</th>\n",
       "      <td>...</td>\n",
       "      <td>...</td>\n",
       "      <td>...</td>\n",
       "      <td>...</td>\n",
       "      <td>...</td>\n",
       "      <td>...</td>\n",
       "      <td>...</td>\n",
       "      <td>...</td>\n",
       "      <td>...</td>\n",
       "    </tr>\n",
       "    <tr>\n",
       "      <th>9995</th>\n",
       "      <td>2018-08-06T03:48:21-04:00</td>\n",
       "      <td>Desktop</td>\n",
       "      <td>5</td>\n",
       "      <td>review</td>\n",
       "      <td>First part done with Singapore Airlines - acce...</td>\n",
       "      <td>Flew to NZ 1st half Singapore Airlines, 2nd ha...</td>\n",
       "      <td>1</td>\n",
       "      <td>first part done with singapor airlin accept co...</td>\n",
       "      <td>1</td>\n",
       "    </tr>\n",
       "    <tr>\n",
       "      <th>9996</th>\n",
       "      <td>2018-08-05T22:50:29-04:00</td>\n",
       "      <td>Mobile</td>\n",
       "      <td>5</td>\n",
       "      <td>review</td>\n",
       "      <td>And again a great Flight with Singapore Air. G...</td>\n",
       "      <td>Best Airline</td>\n",
       "      <td>1</td>\n",
       "      <td>and again a great flight with singapor air gre...</td>\n",
       "      <td>1</td>\n",
       "    </tr>\n",
       "    <tr>\n",
       "      <th>9997</th>\n",
       "      <td>2018-08-05T22:47:06-04:00</td>\n",
       "      <td>Desktop</td>\n",
       "      <td>5</td>\n",
       "      <td>review</td>\n",
       "      <td>We flew business class from Frankfurt, via Sin...</td>\n",
       "      <td>Superb service on Singapore Airlines</td>\n",
       "      <td>1</td>\n",
       "      <td>we flew busi class from frankfurt via singapor...</td>\n",
       "      <td>1</td>\n",
       "    </tr>\n",
       "    <tr>\n",
       "      <th>9998</th>\n",
       "      <td>2018-08-05T20:32:03-04:00</td>\n",
       "      <td>Desktop</td>\n",
       "      <td>4</td>\n",
       "      <td>review</td>\n",
       "      <td>As always, the A380 aircraft was spotlessly pr...</td>\n",
       "      <td>A Comfortable Fiight Spoiled by lack of adequa...</td>\n",
       "      <td>2</td>\n",
       "      <td>as alway the a380 aircraft wa spotlessli prese...</td>\n",
       "      <td>1</td>\n",
       "    </tr>\n",
       "    <tr>\n",
       "      <th>9999</th>\n",
       "      <td>2018-08-05T20:19:51-04:00</td>\n",
       "      <td>Desktop</td>\n",
       "      <td>4</td>\n",
       "      <td>review</td>\n",
       "      <td>As always, Singapore Airlines has done it agai...</td>\n",
       "      <td>Delivered as expected :)</td>\n",
       "      <td>3</td>\n",
       "      <td>as alway singapor airlin ha done it again i wa...</td>\n",
       "      <td>1</td>\n",
       "    </tr>\n",
       "  </tbody>\n",
       "</table>\n",
       "<p>10000 rows × 9 columns</p>\n",
       "</div>"
      ],
      "text/plain": [
       "                 published_date published_platform  rating    type  \\\n",
       "0     2024-03-12T14:41:14-04:00            Desktop       3  review   \n",
       "1     2024-03-11T19:39:13-04:00            Desktop       5  review   \n",
       "2     2024-03-11T12:20:23-04:00            Desktop       1  review   \n",
       "3     2024-03-11T07:12:27-04:00            Desktop       5  review   \n",
       "4     2024-03-10T05:34:18-04:00            Desktop       2  review   \n",
       "...                         ...                ...     ...     ...   \n",
       "9995  2018-08-06T03:48:21-04:00            Desktop       5  review   \n",
       "9996  2018-08-05T22:50:29-04:00             Mobile       5  review   \n",
       "9997  2018-08-05T22:47:06-04:00            Desktop       5  review   \n",
       "9998  2018-08-05T20:32:03-04:00            Desktop       4  review   \n",
       "9999  2018-08-05T20:19:51-04:00            Desktop       4  review   \n",
       "\n",
       "                                                   text  \\\n",
       "0     We used this airline to go from Singapore to L...   \n",
       "1     The service on Singapore Airlines Suites Class...   \n",
       "2     Booked, paid and received email confirmation f...   \n",
       "3     Best airline in the world, seats, food, servic...   \n",
       "4     Premium Economy Seating on Singapore Airlines ...   \n",
       "...                                                 ...   \n",
       "9995  First part done with Singapore Airlines - acce...   \n",
       "9996  And again a great Flight with Singapore Air. G...   \n",
       "9997  We flew business class from Frankfurt, via Sin...   \n",
       "9998  As always, the A380 aircraft was spotlessly pr...   \n",
       "9999  As always, Singapore Airlines has done it agai...   \n",
       "\n",
       "                                                  title  helpful_votes  \\\n",
       "0                                                    Ok              0   \n",
       "1     The service in Suites Class makes one feel lik...              0   \n",
       "2                            Don’t give them your money              0   \n",
       "3                             Best Airline in the World              0   \n",
       "4     Premium Economy Seating on Singapore Airlines ...              0   \n",
       "...                                                 ...            ...   \n",
       "9995  Flew to NZ 1st half Singapore Airlines, 2nd ha...              1   \n",
       "9996                                       Best Airline              1   \n",
       "9997               Superb service on Singapore Airlines              1   \n",
       "9998  A Comfortable Fiight Spoiled by lack of adequa...              2   \n",
       "9999                           Delivered as expected :)              3   \n",
       "\n",
       "                                           text_stemmed  rating_num  \n",
       "0     we use thi airlin to go from singapor to londo...           0  \n",
       "1     the servic on singapor airlin suit class wa no...           1  \n",
       "2     book paid and receiv email confirm for extra l...           0  \n",
       "3     best airlin in the world seat food servic are ...           1  \n",
       "4     premium economi seat on singapor airlin ha nar...           0  \n",
       "...                                                 ...         ...  \n",
       "9995  first part done with singapor airlin accept co...           1  \n",
       "9996  and again a great flight with singapor air gre...           1  \n",
       "9997  we flew busi class from frankfurt via singapor...           1  \n",
       "9998  as alway the a380 aircraft wa spotlessli prese...           1  \n",
       "9999  as alway singapor airlin ha done it again i wa...           1  \n",
       "\n",
       "[10000 rows x 9 columns]"
      ]
     },
     "execution_count": 6,
     "metadata": {},
     "output_type": "execute_result"
    }
   ],
   "source": [
    "df['rating_num'] = df['rating'].map({1: 0, 2: 0, 3: 0, 4: 1, 5: 1}) # переводим таргет в числа\n",
    "df"
   ]
  },
  {
   "cell_type": "code",
   "execution_count": 7,
   "id": "c75f8c5d-79c5-48d4-9f8c-f8a249a6b794",
   "metadata": {},
   "outputs": [],
   "source": [
    "train, test = train_test_split(df, random_state=0)"
   ]
  },
  {
   "cell_type": "code",
   "execution_count": 8,
   "id": "722f96d7-b074-4b38-900b-487fa67ac3be",
   "metadata": {},
   "outputs": [
    {
     "name": "stderr",
     "output_type": "stream",
     "text": [
      "/home/iulia/miniconda3/envs/my-environment/lib/python3.11/site-packages/sklearn/linear_model/_logistic.py:460: ConvergenceWarning: lbfgs failed to converge (status=1):\n",
      "STOP: TOTAL NO. of ITERATIONS REACHED LIMIT.\n",
      "\n",
      "Increase the number of iterations (max_iter) or scale the data as shown in:\n",
      "    https://scikit-learn.org/stable/modules/preprocessing.html\n",
      "Please also refer to the documentation for alternative solver options:\n",
      "    https://scikit-learn.org/stable/modules/linear_model.html#logistic-regression\n",
      "  n_iter_i = _check_optimize_result(\n"
     ]
    },
    {
     "data": {
      "text/plain": [
       "0.9330825047030369"
      ]
     },
     "execution_count": 8,
     "metadata": {},
     "output_type": "execute_result"
    }
   ],
   "source": [
    "bow = CountVectorizer()\n",
    "x_train = bow.fit_transform(train['text_stemmed'])\n",
    "x_test = bow.transform(test['text_stemmed'])\n",
    "y_train = train['rating_num']\n",
    "y_test = test['rating_num']\n",
    "\n",
    "model = LogisticRegression()\n",
    "model.fit(x_train, y_train)\n",
    "y_pred = model.predict(x_test)\n",
    "f1_score(y_pred, y_test)"
   ]
  },
  {
   "cell_type": "markdown",
   "id": "021f0356-18f5-4d80-953a-34be2368bb30",
   "metadata": {},
   "source": [
    "**Normal**\n",
    "\n",
    "**Удалить стоп-слова, применить стемминг/лемматизацию. Обучить несколько моделей, подобрать параметры, сделать выводы.**\n",
    "\n",
    "**Написать самостоятельно два отзыва - один положительный, один негативный, посмотреть, угадает ли модель.**"
   ]
  },
  {
   "cell_type": "code",
   "execution_count": 9,
   "id": "ff7fac68-40e3-41f2-b3ca-2e6eaed5a997",
   "metadata": {},
   "outputs": [
    {
     "name": "stderr",
     "output_type": "stream",
     "text": [
      "[nltk_data] Downloading package punkt to /home/iulia/nltk_data...\n",
      "[nltk_data]   Package punkt is already up-to-date!\n",
      "[nltk_data] Downloading package stopwords to /home/iulia/nltk_data...\n",
      "[nltk_data]   Package stopwords is already up-to-date!\n"
     ]
    }
   ],
   "source": [
    "from nltk.corpus import stopwords \n",
    "from nltk.tokenize import word_tokenize \n",
    "import nltk \n",
    "\n",
    "nltk.download('punkt')\n",
    "nltk.download('stopwords')\n",
    "\n",
    "def delete_stopwords(text):\n",
    "    tokens = word_tokenize(text) \n",
    "    filtered_sentence = [w for w in tokens if not w in stopwords.words()] \n",
    "    return filtered_sentence"
   ]
  },
  {
   "cell_type": "code",
   "execution_count": 10,
   "id": "79da8217-a941-421f-a576-f5474f671f4c",
   "metadata": {},
   "outputs": [],
   "source": [
    "def preprocess_sentence_eng_2(text):\n",
    "    return ' '.join(map(stemmer.stem, delete_stopwords(text)))\n"
   ]
  },
  {
   "cell_type": "code",
   "execution_count": 11,
   "id": "15d301e9-2f42-4f5d-9ea3-64b3765c512e",
   "metadata": {},
   "outputs": [
    {
     "name": "stdout",
     "output_type": "stream",
     "text": [
      "['I', \"n't\", 'wan', ',', 'I', 'skipping', 'time', '.']\n",
      "i n't wan , i skip time .\n"
     ]
    }
   ],
   "source": [
    "my_sent = \"I don't wanna go, but I just skipping some time.\" \n",
    "print(delete_stopwords(my_sent))\n",
    "\n",
    "print(preprocess_sentence_eng_2(my_sent))\n"
   ]
  },
  {
   "cell_type": "code",
   "execution_count": null,
   "id": "a4769900-fe39-45d7-8bad-ba6d6a4d49de",
   "metadata": {},
   "outputs": [],
   "source": [
    "n = 100 #сликом большой объем иначе, долго работает\n",
    "df.loc[:n-1, 'text_no_stopwords'] = df.loc[:n-1, 'text'].apply(preprocess_sentence_eng_2) "
   ]
  },
  {
   "cell_type": "code",
   "execution_count": null,
   "id": "1d92ff88-e135-4fad-9bc5-75b9ceb782d4",
   "metadata": {},
   "outputs": [],
   "source": [
    "df"
   ]
  },
  {
   "cell_type": "code",
   "execution_count": null,
   "id": "84c18de1-788f-4dde-875e-69387166add4",
   "metadata": {},
   "outputs": [],
   "source": [
    "train, test = train_test_split(df.loc[:n-1], random_state=0)"
   ]
  },
  {
   "cell_type": "code",
   "execution_count": null,
   "id": "7107d0dc-1145-4222-ae44-4945e15a6505",
   "metadata": {},
   "outputs": [],
   "source": [
    "bow = CountVectorizer()\n",
    "x_train = bow.fit_transform(train['text_no_stopwords'])\n",
    "x_test = bow.transform(test['text_no_stopwords'])\n",
    "y_train = train['rating_num']\n",
    "y_test = test['rating_num']\n",
    "\n",
    "model = LogisticRegression()\n",
    "model.fit(x_train, y_train)\n",
    "y_pred = model.predict(x_test)\n",
    "f1_score(y_pred, y_test)"
   ]
  },
  {
   "cell_type": "markdown",
   "id": "99c10dca-84bb-48d9-a29c-391bc252c616",
   "metadata": {},
   "source": [
    "**Предложения:**"
   ]
  },
  {
   "cell_type": "code",
   "execution_count": null,
   "id": "3a01b0c1-6bf5-42a7-9907-72d1c5ef32d1",
   "metadata": {},
   "outputs": [],
   "source": [
    "bad_review = \"Perfect company? No! I will never buy their tickets again!\"\n",
    "good_review = \"Everything was amazing, even food was delicious.\"\n",
    "bad_grammar_review = \"Samething isnt ok byt i can not get wat\"\n",
    "sarcasm_review = \"Owners of this company are such a great people that I really want to meet them to kick them in their faces))\""
   ]
  },
  {
   "cell_type": "code",
   "execution_count": null,
   "id": "a31b06c5-191f-4dfc-a31c-dfef6269cf5b",
   "metadata": {},
   "outputs": [],
   "source": [
    "reviews = [bad_review, good_review, bad_grammar_review, sarcasm_review]\n",
    "answers = [0, 1, 1, 0]\n",
    "for i in range(4):\n",
    "    if reviews[i] == answers[i]:\n",
    "        print(\"True\")\n",
    "    else:\n",
    "        print(\"False\")"
   ]
  },
  {
   "cell_type": "code",
   "execution_count": null,
   "id": "0c4ed3d9-038f-4490-b6ea-edba2fe84e16",
   "metadata": {},
   "outputs": [],
   "source": []
  }
 ],
 "metadata": {
  "kernelspec": {
   "display_name": "Python 3 (ipykernel)",
   "language": "python",
   "name": "python3"
  },
  "language_info": {
   "codemirror_mode": {
    "name": "ipython",
    "version": 3
   },
   "file_extension": ".py",
   "mimetype": "text/x-python",
   "name": "python",
   "nbconvert_exporter": "python",
   "pygments_lexer": "ipython3",
   "version": "3.11.8"
  }
 },
 "nbformat": 4,
 "nbformat_minor": 5
}
